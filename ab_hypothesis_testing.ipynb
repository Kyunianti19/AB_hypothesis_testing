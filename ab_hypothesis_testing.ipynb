{
 "cells": [
  {
   "cell_type": "markdown",
   "id": "e25931d3",
   "metadata": {},
   "source": [
    "# A/B Hypothesis Testing"
   ]
  },
  {
   "cell_type": "markdown",
   "id": "e07ab184",
   "metadata": {},
   "source": [
    "**Background information:**\n",
    "An e-commerce company is revamping a landing page after various analysis and research. The company want to experiment whether the new landing page will give better conversion rate before rolling out to a wider audience. \n",
    "\n",
    "**Data:**\n",
    "We were given the experiment result from control and experimental/treatment group. We have hypothesis that the new page (treatment group) will give a better conversion rate.\n",
    "\n",
    "**Goal:**\n",
    "Test whether the hypothesis is proven or not"
   ]
  },
  {
   "cell_type": "code",
   "execution_count": 1,
   "id": "b5c900b9",
   "metadata": {},
   "outputs": [],
   "source": [
    "import pandas as pd\n",
    "import numpy as np"
   ]
  },
  {
   "cell_type": "code",
   "execution_count": 2,
   "id": "1e4a3726",
   "metadata": {},
   "outputs": [
    {
     "data": {
      "text/html": [
       "<div>\n",
       "<style scoped>\n",
       "    .dataframe tbody tr th:only-of-type {\n",
       "        vertical-align: middle;\n",
       "    }\n",
       "\n",
       "    .dataframe tbody tr th {\n",
       "        vertical-align: top;\n",
       "    }\n",
       "\n",
       "    .dataframe thead th {\n",
       "        text-align: right;\n",
       "    }\n",
       "</style>\n",
       "<table border=\"1\" class=\"dataframe\">\n",
       "  <thead>\n",
       "    <tr style=\"text-align: right;\">\n",
       "      <th></th>\n",
       "      <th>user_id</th>\n",
       "      <th>timestamp</th>\n",
       "      <th>group</th>\n",
       "      <th>landing_page</th>\n",
       "      <th>converted</th>\n",
       "    </tr>\n",
       "  </thead>\n",
       "  <tbody>\n",
       "    <tr>\n",
       "      <th>0</th>\n",
       "      <td>851104</td>\n",
       "      <td>2017-01-21 22:11:49</td>\n",
       "      <td>control</td>\n",
       "      <td>old_page</td>\n",
       "      <td>0</td>\n",
       "    </tr>\n",
       "    <tr>\n",
       "      <th>1</th>\n",
       "      <td>804228</td>\n",
       "      <td>2017-01-12 8:01:45</td>\n",
       "      <td>control</td>\n",
       "      <td>old_page</td>\n",
       "      <td>0</td>\n",
       "    </tr>\n",
       "    <tr>\n",
       "      <th>2</th>\n",
       "      <td>661590</td>\n",
       "      <td>2017-01-11 16:55:06</td>\n",
       "      <td>treatment</td>\n",
       "      <td>new_page</td>\n",
       "      <td>0</td>\n",
       "    </tr>\n",
       "    <tr>\n",
       "      <th>3</th>\n",
       "      <td>853541</td>\n",
       "      <td>2017-01-08 18:28:03</td>\n",
       "      <td>treatment</td>\n",
       "      <td>new_page</td>\n",
       "      <td>0</td>\n",
       "    </tr>\n",
       "    <tr>\n",
       "      <th>4</th>\n",
       "      <td>864975</td>\n",
       "      <td>2017-01-21 1:52:26</td>\n",
       "      <td>control</td>\n",
       "      <td>old_page</td>\n",
       "      <td>1</td>\n",
       "    </tr>\n",
       "  </tbody>\n",
       "</table>\n",
       "</div>"
      ],
      "text/plain": [
       "   user_id            timestamp      group landing_page  converted\n",
       "0   851104  2017-01-21 22:11:49    control     old_page          0\n",
       "1   804228   2017-01-12 8:01:45    control     old_page          0\n",
       "2   661590  2017-01-11 16:55:06  treatment     new_page          0\n",
       "3   853541  2017-01-08 18:28:03  treatment     new_page          0\n",
       "4   864975   2017-01-21 1:52:26    control     old_page          1"
      ]
     },
     "execution_count": 2,
     "metadata": {},
     "output_type": "execute_result"
    }
   ],
   "source": [
    "url = 'https://docs.google.com/spreadsheets/d/1XZ6SjnbAs_bHGdznm8sUEYqmPbNlrMabIueGvpmxi2E/edit#gid=842283717'\n",
    "url = url.replace('/edit#gid=', '/export?format=csv&gid=')\n",
    "df = pd.read_csv(url)\n",
    "df.head()"
   ]
  },
  {
   "cell_type": "markdown",
   "id": "6343facc",
   "metadata": {},
   "source": [
    "## Data Preparation & Cleaning"
   ]
  },
  {
   "cell_type": "code",
   "execution_count": 3,
   "id": "f7b41004",
   "metadata": {
    "scrolled": true
   },
   "outputs": [
    {
     "name": "stdout",
     "output_type": "stream",
     "text": [
      "<class 'pandas.core.frame.DataFrame'>\n",
      "RangeIndex: 5000 entries, 0 to 4999\n",
      "Data columns (total 5 columns):\n",
      " #   Column        Non-Null Count  Dtype \n",
      "---  ------        --------------  ----- \n",
      " 0   user_id       5000 non-null   int64 \n",
      " 1   timestamp     5000 non-null   object\n",
      " 2   group         5000 non-null   object\n",
      " 3   landing_page  5000 non-null   object\n",
      " 4   converted     5000 non-null   int64 \n",
      "dtypes: int64(2), object(3)\n",
      "memory usage: 195.4+ KB\n"
     ]
    }
   ],
   "source": [
    "df.info()"
   ]
  },
  {
   "cell_type": "code",
   "execution_count": 4,
   "id": "ab5cfc1e",
   "metadata": {},
   "outputs": [
    {
     "name": "stdout",
     "output_type": "stream",
     "text": [
      "Number of missing data for each column:\n",
      "user_id         0\n",
      "timestamp       0\n",
      "group           0\n",
      "landing_page    0\n",
      "converted       0\n",
      "dtype: int64\n",
      "\n",
      "Number of duplicated data: 0\n"
     ]
    }
   ],
   "source": [
    "print('Number of missing data for each column:')\n",
    "print(df.isnull().sum())\n",
    "print('\\nNumber of duplicated data:', df.duplicated().sum())"
   ]
  },
  {
   "cell_type": "code",
   "execution_count": 5,
   "id": "12f58a0f",
   "metadata": {},
   "outputs": [
    {
     "name": "stdout",
     "output_type": "stream",
     "text": [
      "Checking typos in column group and landing_page:\n",
      "Column group: ['control' 'treatment']\n",
      "Column landing_page: ['old_page' 'new_page']\n"
     ]
    }
   ],
   "source": [
    "print('Checking typos in column group and landing_page:')\n",
    "print('Column group:', df.iloc[:,2].unique())\n",
    "print('Column landing_page:', df.iloc[:,3].unique())"
   ]
  },
  {
   "cell_type": "code",
   "execution_count": 6,
   "id": "7ff0c58f",
   "metadata": {},
   "outputs": [],
   "source": [
    "# Dropping irrelevant column\n",
    "df.drop(columns=['user_id', 'timestamp'], inplace=True)"
   ]
  },
  {
   "cell_type": "code",
   "execution_count": 7,
   "id": "34905c3f",
   "metadata": {},
   "outputs": [
    {
     "data": {
      "text/html": [
       "<div>\n",
       "<style scoped>\n",
       "    .dataframe tbody tr th:only-of-type {\n",
       "        vertical-align: middle;\n",
       "    }\n",
       "\n",
       "    .dataframe tbody tr th {\n",
       "        vertical-align: top;\n",
       "    }\n",
       "\n",
       "    .dataframe thead th {\n",
       "        text-align: right;\n",
       "    }\n",
       "</style>\n",
       "<table border=\"1\" class=\"dataframe\">\n",
       "  <thead>\n",
       "    <tr style=\"text-align: right;\">\n",
       "      <th></th>\n",
       "      <th>group</th>\n",
       "      <th>landing_page</th>\n",
       "      <th>converted</th>\n",
       "    </tr>\n",
       "  </thead>\n",
       "  <tbody>\n",
       "    <tr>\n",
       "      <th>0</th>\n",
       "      <td>control</td>\n",
       "      <td>old_page</td>\n",
       "      <td>0</td>\n",
       "    </tr>\n",
       "    <tr>\n",
       "      <th>1</th>\n",
       "      <td>control</td>\n",
       "      <td>old_page</td>\n",
       "      <td>0</td>\n",
       "    </tr>\n",
       "    <tr>\n",
       "      <th>4</th>\n",
       "      <td>control</td>\n",
       "      <td>old_page</td>\n",
       "      <td>1</td>\n",
       "    </tr>\n",
       "    <tr>\n",
       "      <th>5</th>\n",
       "      <td>control</td>\n",
       "      <td>old_page</td>\n",
       "      <td>0</td>\n",
       "    </tr>\n",
       "    <tr>\n",
       "      <th>7</th>\n",
       "      <td>control</td>\n",
       "      <td>old_page</td>\n",
       "      <td>0</td>\n",
       "    </tr>\n",
       "  </tbody>\n",
       "</table>\n",
       "</div>"
      ],
      "text/plain": [
       "     group landing_page  converted\n",
       "0  control     old_page          0\n",
       "1  control     old_page          0\n",
       "4  control     old_page          1\n",
       "5  control     old_page          0\n",
       "7  control     old_page          0"
      ]
     },
     "execution_count": 7,
     "metadata": {},
     "output_type": "execute_result"
    }
   ],
   "source": [
    "control = (df.iloc[:,0]=='control') & (df.iloc[:,1]=='old_page')\n",
    "df_control = df[control].copy()\n",
    "df_control.head()"
   ]
  },
  {
   "cell_type": "code",
   "execution_count": 8,
   "id": "b4cb8987",
   "metadata": {},
   "outputs": [
    {
     "data": {
      "text/html": [
       "<div>\n",
       "<style scoped>\n",
       "    .dataframe tbody tr th:only-of-type {\n",
       "        vertical-align: middle;\n",
       "    }\n",
       "\n",
       "    .dataframe tbody tr th {\n",
       "        vertical-align: top;\n",
       "    }\n",
       "\n",
       "    .dataframe thead th {\n",
       "        text-align: right;\n",
       "    }\n",
       "</style>\n",
       "<table border=\"1\" class=\"dataframe\">\n",
       "  <thead>\n",
       "    <tr style=\"text-align: right;\">\n",
       "      <th></th>\n",
       "      <th>group</th>\n",
       "      <th>landing_page</th>\n",
       "      <th>converted</th>\n",
       "    </tr>\n",
       "  </thead>\n",
       "  <tbody>\n",
       "    <tr>\n",
       "      <th>2</th>\n",
       "      <td>treatment</td>\n",
       "      <td>new_page</td>\n",
       "      <td>0</td>\n",
       "    </tr>\n",
       "    <tr>\n",
       "      <th>3</th>\n",
       "      <td>treatment</td>\n",
       "      <td>new_page</td>\n",
       "      <td>0</td>\n",
       "    </tr>\n",
       "    <tr>\n",
       "      <th>6</th>\n",
       "      <td>treatment</td>\n",
       "      <td>new_page</td>\n",
       "      <td>1</td>\n",
       "    </tr>\n",
       "    <tr>\n",
       "      <th>8</th>\n",
       "      <td>treatment</td>\n",
       "      <td>new_page</td>\n",
       "      <td>1</td>\n",
       "    </tr>\n",
       "    <tr>\n",
       "      <th>9</th>\n",
       "      <td>treatment</td>\n",
       "      <td>new_page</td>\n",
       "      <td>1</td>\n",
       "    </tr>\n",
       "  </tbody>\n",
       "</table>\n",
       "</div>"
      ],
      "text/plain": [
       "       group landing_page  converted\n",
       "2  treatment     new_page          0\n",
       "3  treatment     new_page          0\n",
       "6  treatment     new_page          1\n",
       "8  treatment     new_page          1\n",
       "9  treatment     new_page          1"
      ]
     },
     "execution_count": 8,
     "metadata": {},
     "output_type": "execute_result"
    }
   ],
   "source": [
    "treatment = (df.iloc[:,0]=='treatment') & (df.iloc[:,1]=='new_page')\n",
    "df_treatment = df[treatment].copy()\n",
    "df_treatment.head()"
   ]
  },
  {
   "cell_type": "markdown",
   "id": "cbbf4a21",
   "metadata": {},
   "source": [
    "## EDA"
   ]
  },
  {
   "cell_type": "code",
   "execution_count": 16,
   "id": "656b5d8f",
   "metadata": {},
   "outputs": [
    {
     "name": "stdout",
     "output_type": "stream",
     "text": [
      "Conversion rate in control group: 12.61 %\n",
      "Conversion rate in treatment group: 13.17 %\n"
     ]
    }
   ],
   "source": [
    "print('Conversion rate in control group:', (df_control.iloc[:,2].mean()*100).round(2),'%')\n",
    "print('Conversion rate in treatment group:', (df_treatment.iloc[:,2].mean()*100).round(2),'%')"
   ]
  },
  {
   "cell_type": "markdown",
   "id": "fddda1f7",
   "metadata": {},
   "source": [
    "## Hypothesis Testing"
   ]
  },
  {
   "cell_type": "markdown",
   "id": "0e1380da",
   "metadata": {},
   "source": [
    "**Null Hypothesis (H0)**: Conversion rate in old page **less than or equal to** the conversion rate in new page\n",
    "\n",
    "**Alternative Hypothesis (H1)**: Conversion rate in old page **better than** the conversion rate in new page"
   ]
  },
  {
   "cell_type": "code",
   "execution_count": 26,
   "id": "62b580b2",
   "metadata": {},
   "outputs": [
    {
     "name": "stdout",
     "output_type": "stream",
     "text": [
      "Z-score = 0.5787432513872296\n",
      "p-value = 0.2813812136899914\n",
      "The p=value is more than 0.05, we do not have enough evidence to reject null hypothesis\n"
     ]
    }
   ],
   "source": [
    "from statsmodels.stats.weightstats import ztest\n",
    "(stat, pvalue) = ztest(df_treatment.iloc[:,2], df_control.iloc[:,2], alternative='larger')\n",
    "print('Z-score =', stat)\n",
    "print('p-value =', pvalue)\n",
    "if (pvalue<0.05):\n",
    "    print('The p=value is less than 0.05, we have enough evidence to reject null hypothesis')\n",
    "else:\n",
    "    print('The p=value is more than 0.05, we do not have enough evidence to reject null hypothesis')"
   ]
  },
  {
   "cell_type": "markdown",
   "id": "811e83d2",
   "metadata": {},
   "source": [
    "**Result**\n",
    "\n",
    "We don't have enough evidence to reject null hypothesis, thus we **accept null hypothesis.** New landing page doesn't get better conversion rate than the old one. "
   ]
  },
  {
   "cell_type": "markdown",
   "id": "b16cdfac",
   "metadata": {},
   "source": [
    "## Recommendation\n",
    "The company can keep using the old landing page."
   ]
  }
 ],
 "metadata": {
  "kernelspec": {
   "display_name": "Python 3 (ipykernel)",
   "language": "python",
   "name": "python3"
  },
  "language_info": {
   "codemirror_mode": {
    "name": "ipython",
    "version": 3
   },
   "file_extension": ".py",
   "mimetype": "text/x-python",
   "name": "python",
   "nbconvert_exporter": "python",
   "pygments_lexer": "ipython3",
   "version": "3.10.1"
  }
 },
 "nbformat": 4,
 "nbformat_minor": 5
}
