{
 "cells": [
  {
   "cell_type": "markdown",
   "id": "e25931d3",
   "metadata": {},
   "source": [
    "# A/B Hypothesis Testing\n",
    "# Section\n",
    "\n",
    "* [Introduction](#section_1)\n",
    "* [Data Preparation & Cleaning](#section_2)\n",
    "* [Exploratory Data Analysis](#section_3)\n",
    "* [Hypothesis Testing](#section_4)"
   ]
  },
  {
   "cell_type": "markdown",
   "id": "e07ab184",
   "metadata": {},
   "source": [
    "<a id='section_1'></a>\n",
    "## Introduction\n",
    "**<u>Background information:</u>**\n",
    "An e-commerce company is revamping a landing page after various analysis and research. The company want to experiment whether the new landing page will give better conversion rate before rolling out to a wider audience. \n",
    "\n",
    "**<u>Data:</u>**\n",
    "We were given the experiment result from control and experimental/treatment group. We have hypothesis that the new page (treatment group) will give a better conversion rate.\n",
    "\n",
    "**<u>Goal:</u>**\n",
    "Help company in deciding which landing page is better (keep the old page or implement the new one). "
   ]
  },
  {
   "cell_type": "markdown",
   "id": "c061b10a",
   "metadata": {},
   "source": [
    "<a id='section_2'></a>\n",
    "## Data Preparation & Cleaning\n",
    "First, we need to import the data."
   ]
  },
  {
   "cell_type": "code",
   "execution_count": 44,
   "id": "b5c900b9",
   "metadata": {},
   "outputs": [],
   "source": [
    "import pandas as pd\n",
    "import numpy as np"
   ]
  },
  {
   "cell_type": "code",
   "execution_count": 45,
   "id": "1e4a3726",
   "metadata": {},
   "outputs": [
    {
     "data": {
      "text/html": [
       "<div>\n",
       "<style scoped>\n",
       "    .dataframe tbody tr th:only-of-type {\n",
       "        vertical-align: middle;\n",
       "    }\n",
       "\n",
       "    .dataframe tbody tr th {\n",
       "        vertical-align: top;\n",
       "    }\n",
       "\n",
       "    .dataframe thead th {\n",
       "        text-align: right;\n",
       "    }\n",
       "</style>\n",
       "<table border=\"1\" class=\"dataframe\">\n",
       "  <thead>\n",
       "    <tr style=\"text-align: right;\">\n",
       "      <th></th>\n",
       "      <th>user_id</th>\n",
       "      <th>timestamp</th>\n",
       "      <th>group</th>\n",
       "      <th>landing_page</th>\n",
       "      <th>converted</th>\n",
       "    </tr>\n",
       "  </thead>\n",
       "  <tbody>\n",
       "    <tr>\n",
       "      <th>0</th>\n",
       "      <td>851104</td>\n",
       "      <td>2017-01-21 22:11:49</td>\n",
       "      <td>control</td>\n",
       "      <td>old_page</td>\n",
       "      <td>0</td>\n",
       "    </tr>\n",
       "    <tr>\n",
       "      <th>1</th>\n",
       "      <td>804228</td>\n",
       "      <td>2017-01-12 8:01:45</td>\n",
       "      <td>control</td>\n",
       "      <td>old_page</td>\n",
       "      <td>0</td>\n",
       "    </tr>\n",
       "    <tr>\n",
       "      <th>2</th>\n",
       "      <td>661590</td>\n",
       "      <td>2017-01-11 16:55:06</td>\n",
       "      <td>treatment</td>\n",
       "      <td>new_page</td>\n",
       "      <td>0</td>\n",
       "    </tr>\n",
       "    <tr>\n",
       "      <th>3</th>\n",
       "      <td>853541</td>\n",
       "      <td>2017-01-08 18:28:03</td>\n",
       "      <td>treatment</td>\n",
       "      <td>new_page</td>\n",
       "      <td>0</td>\n",
       "    </tr>\n",
       "    <tr>\n",
       "      <th>4</th>\n",
       "      <td>864975</td>\n",
       "      <td>2017-01-21 1:52:26</td>\n",
       "      <td>control</td>\n",
       "      <td>old_page</td>\n",
       "      <td>1</td>\n",
       "    </tr>\n",
       "  </tbody>\n",
       "</table>\n",
       "</div>"
      ],
      "text/plain": [
       "   user_id            timestamp      group landing_page  converted\n",
       "0   851104  2017-01-21 22:11:49    control     old_page          0\n",
       "1   804228   2017-01-12 8:01:45    control     old_page          0\n",
       "2   661590  2017-01-11 16:55:06  treatment     new_page          0\n",
       "3   853541  2017-01-08 18:28:03  treatment     new_page          0\n",
       "4   864975   2017-01-21 1:52:26    control     old_page          1"
      ]
     },
     "execution_count": 45,
     "metadata": {},
     "output_type": "execute_result"
    }
   ],
   "source": [
    "url = 'https://docs.google.com/spreadsheets/d/1XZ6SjnbAs_bHGdznm8sUEYqmPbNlrMabIueGvpmxi2E/edit#gid=842283717'\n",
    "url = url.replace('/edit#gid=', '/export?format=csv&gid=')\n",
    "df = pd.read_csv(url)\n",
    "df.head()"
   ]
  },
  {
   "cell_type": "code",
   "execution_count": 46,
   "id": "f7b41004",
   "metadata": {
    "scrolled": true
   },
   "outputs": [
    {
     "name": "stdout",
     "output_type": "stream",
     "text": [
      "<class 'pandas.core.frame.DataFrame'>\n",
      "RangeIndex: 5000 entries, 0 to 4999\n",
      "Data columns (total 5 columns):\n",
      " #   Column        Non-Null Count  Dtype \n",
      "---  ------        --------------  ----- \n",
      " 0   user_id       5000 non-null   int64 \n",
      " 1   timestamp     5000 non-null   object\n",
      " 2   group         5000 non-null   object\n",
      " 3   landing_page  5000 non-null   object\n",
      " 4   converted     5000 non-null   int64 \n",
      "dtypes: int64(2), object(3)\n",
      "memory usage: 195.4+ KB\n"
     ]
    }
   ],
   "source": [
    "df.info()"
   ]
  },
  {
   "cell_type": "code",
   "execution_count": 47,
   "id": "ab5cfc1e",
   "metadata": {},
   "outputs": [
    {
     "name": "stdout",
     "output_type": "stream",
     "text": [
      "Number of missing data for each column:\n",
      "user_id         0\n",
      "timestamp       0\n",
      "group           0\n",
      "landing_page    0\n",
      "converted       0\n",
      "dtype: int64\n",
      "\n",
      "Number of duplicated data: 0\n"
     ]
    }
   ],
   "source": [
    "print('Number of missing data for each column:')\n",
    "print(df.isnull().sum())\n",
    "print('\\nNumber of duplicated data:', df.duplicated().sum())"
   ]
  },
  {
   "cell_type": "markdown",
   "id": "39880816",
   "metadata": {},
   "source": [
    "There's no missing values in the data. It also has no duplicate data. We can continue the cleaning process."
   ]
  },
  {
   "cell_type": "code",
   "execution_count": 48,
   "id": "cd33cd31",
   "metadata": {},
   "outputs": [
    {
     "name": "stdout",
     "output_type": "stream",
     "text": [
      "2017-01-02 13:42:41 to 2017-01-24 9:51:06\n"
     ]
    }
   ],
   "source": [
    "print(df.iloc[:,1].min(), 'to', df.iloc[:,1].max())"
   ]
  },
  {
   "cell_type": "code",
   "execution_count": 49,
   "id": "35d82398",
   "metadata": {},
   "outputs": [
    {
     "data": {
      "text/html": [
       "<div>\n",
       "<style scoped>\n",
       "    .dataframe tbody tr th:only-of-type {\n",
       "        vertical-align: middle;\n",
       "    }\n",
       "\n",
       "    .dataframe tbody tr th {\n",
       "        vertical-align: top;\n",
       "    }\n",
       "\n",
       "    .dataframe thead th {\n",
       "        text-align: right;\n",
       "    }\n",
       "</style>\n",
       "<table border=\"1\" class=\"dataframe\">\n",
       "  <thead>\n",
       "    <tr style=\"text-align: right;\">\n",
       "      <th></th>\n",
       "      <th>user_id</th>\n",
       "      <th>timestamp</th>\n",
       "      <th>group</th>\n",
       "      <th>landing_page</th>\n",
       "      <th>converted</th>\n",
       "    </tr>\n",
       "  </thead>\n",
       "  <tbody>\n",
       "    <tr>\n",
       "      <th>988</th>\n",
       "      <td>698120</td>\n",
       "      <td>2017-01-22 7:09:38</td>\n",
       "      <td>control</td>\n",
       "      <td>new_page</td>\n",
       "      <td>0</td>\n",
       "    </tr>\n",
       "    <tr>\n",
       "      <th>1899</th>\n",
       "      <td>773192</td>\n",
       "      <td>2017-01-09 5:37:59</td>\n",
       "      <td>treatment</td>\n",
       "      <td>new_page</td>\n",
       "      <td>0</td>\n",
       "    </tr>\n",
       "    <tr>\n",
       "      <th>2656</th>\n",
       "      <td>698120</td>\n",
       "      <td>2017-01-15 17:13:43</td>\n",
       "      <td>control</td>\n",
       "      <td>old_page</td>\n",
       "      <td>0</td>\n",
       "    </tr>\n",
       "    <tr>\n",
       "      <th>2893</th>\n",
       "      <td>773192</td>\n",
       "      <td>2017-01-14 2:56:00</td>\n",
       "      <td>treatment</td>\n",
       "      <td>new_page</td>\n",
       "      <td>0</td>\n",
       "    </tr>\n",
       "  </tbody>\n",
       "</table>\n",
       "</div>"
      ],
      "text/plain": [
       "      user_id            timestamp      group landing_page  converted\n",
       "988    698120   2017-01-22 7:09:38    control     new_page          0\n",
       "1899   773192   2017-01-09 5:37:59  treatment     new_page          0\n",
       "2656   698120  2017-01-15 17:13:43    control     old_page          0\n",
       "2893   773192   2017-01-14 2:56:00  treatment     new_page          0"
      ]
     },
     "execution_count": 49,
     "metadata": {},
     "output_type": "execute_result"
    }
   ],
   "source": [
    "df[df.iloc[:,0].duplicated(False)]"
   ]
  },
  {
   "cell_type": "markdown",
   "id": "66b96c95",
   "metadata": {},
   "source": [
    "The experiment was carried out in 23 days from January 2nd 2017 to January 24th 2017. There are 2 user who viewed the landing pages twice in a different time. "
   ]
  },
  {
   "cell_type": "code",
   "execution_count": 50,
   "id": "12f58a0f",
   "metadata": {},
   "outputs": [
    {
     "name": "stdout",
     "output_type": "stream",
     "text": [
      "Checking typos in column group and landing_page:\n",
      "Column group: ['control' 'treatment']\n",
      "Column landing_page: ['old_page' 'new_page']\n"
     ]
    }
   ],
   "source": [
    "print('Checking typos in column group and landing_page:')\n",
    "print('Column group:', df.iloc[:,2].unique())\n",
    "print('Column landing_page:', df.iloc[:,3].unique())"
   ]
  },
  {
   "cell_type": "markdown",
   "id": "81a13743",
   "metadata": {},
   "source": [
    "No typos were found. "
   ]
  },
  {
   "cell_type": "markdown",
   "id": "b942acb1",
   "metadata": {},
   "source": [
    "Next, We should do a validation. These condition must be true for each groups.\n",
    "* Condition 1: control group must receive old landing page only\n",
    "* Condition 2: treatment group must receive new landing page only\n",
    "\n",
    "To do that, I did a grouping based on those valid condition."
   ]
  },
  {
   "cell_type": "code",
   "execution_count": 51,
   "id": "34905c3f",
   "metadata": {},
   "outputs": [
    {
     "data": {
      "text/html": [
       "<div>\n",
       "<style scoped>\n",
       "    .dataframe tbody tr th:only-of-type {\n",
       "        vertical-align: middle;\n",
       "    }\n",
       "\n",
       "    .dataframe tbody tr th {\n",
       "        vertical-align: top;\n",
       "    }\n",
       "\n",
       "    .dataframe thead th {\n",
       "        text-align: right;\n",
       "    }\n",
       "</style>\n",
       "<table border=\"1\" class=\"dataframe\">\n",
       "  <thead>\n",
       "    <tr style=\"text-align: right;\">\n",
       "      <th></th>\n",
       "      <th>user_id</th>\n",
       "      <th>timestamp</th>\n",
       "      <th>group</th>\n",
       "      <th>landing_page</th>\n",
       "      <th>converted</th>\n",
       "    </tr>\n",
       "  </thead>\n",
       "  <tbody>\n",
       "    <tr>\n",
       "      <th>0</th>\n",
       "      <td>851104</td>\n",
       "      <td>2017-01-21 22:11:49</td>\n",
       "      <td>control</td>\n",
       "      <td>old_page</td>\n",
       "      <td>0</td>\n",
       "    </tr>\n",
       "    <tr>\n",
       "      <th>1</th>\n",
       "      <td>804228</td>\n",
       "      <td>2017-01-12 8:01:45</td>\n",
       "      <td>control</td>\n",
       "      <td>old_page</td>\n",
       "      <td>0</td>\n",
       "    </tr>\n",
       "    <tr>\n",
       "      <th>4</th>\n",
       "      <td>864975</td>\n",
       "      <td>2017-01-21 1:52:26</td>\n",
       "      <td>control</td>\n",
       "      <td>old_page</td>\n",
       "      <td>1</td>\n",
       "    </tr>\n",
       "    <tr>\n",
       "      <th>5</th>\n",
       "      <td>936923</td>\n",
       "      <td>2017-01-10 15:20:49</td>\n",
       "      <td>control</td>\n",
       "      <td>old_page</td>\n",
       "      <td>0</td>\n",
       "    </tr>\n",
       "    <tr>\n",
       "      <th>7</th>\n",
       "      <td>719014</td>\n",
       "      <td>2017-01-17 1:48:30</td>\n",
       "      <td>control</td>\n",
       "      <td>old_page</td>\n",
       "      <td>0</td>\n",
       "    </tr>\n",
       "  </tbody>\n",
       "</table>\n",
       "</div>"
      ],
      "text/plain": [
       "   user_id            timestamp    group landing_page  converted\n",
       "0   851104  2017-01-21 22:11:49  control     old_page          0\n",
       "1   804228   2017-01-12 8:01:45  control     old_page          0\n",
       "4   864975   2017-01-21 1:52:26  control     old_page          1\n",
       "5   936923  2017-01-10 15:20:49  control     old_page          0\n",
       "7   719014   2017-01-17 1:48:30  control     old_page          0"
      ]
     },
     "execution_count": 51,
     "metadata": {},
     "output_type": "execute_result"
    }
   ],
   "source": [
    "control = (df.iloc[:,2]=='control') & (df.iloc[:,3]=='old_page')\n",
    "df_control = df[control].copy()\n",
    "df_control.head()"
   ]
  },
  {
   "cell_type": "code",
   "execution_count": 52,
   "id": "b4cb8987",
   "metadata": {},
   "outputs": [
    {
     "data": {
      "text/html": [
       "<div>\n",
       "<style scoped>\n",
       "    .dataframe tbody tr th:only-of-type {\n",
       "        vertical-align: middle;\n",
       "    }\n",
       "\n",
       "    .dataframe tbody tr th {\n",
       "        vertical-align: top;\n",
       "    }\n",
       "\n",
       "    .dataframe thead th {\n",
       "        text-align: right;\n",
       "    }\n",
       "</style>\n",
       "<table border=\"1\" class=\"dataframe\">\n",
       "  <thead>\n",
       "    <tr style=\"text-align: right;\">\n",
       "      <th></th>\n",
       "      <th>user_id</th>\n",
       "      <th>timestamp</th>\n",
       "      <th>group</th>\n",
       "      <th>landing_page</th>\n",
       "      <th>converted</th>\n",
       "    </tr>\n",
       "  </thead>\n",
       "  <tbody>\n",
       "    <tr>\n",
       "      <th>2</th>\n",
       "      <td>661590</td>\n",
       "      <td>2017-01-11 16:55:06</td>\n",
       "      <td>treatment</td>\n",
       "      <td>new_page</td>\n",
       "      <td>0</td>\n",
       "    </tr>\n",
       "    <tr>\n",
       "      <th>3</th>\n",
       "      <td>853541</td>\n",
       "      <td>2017-01-08 18:28:03</td>\n",
       "      <td>treatment</td>\n",
       "      <td>new_page</td>\n",
       "      <td>0</td>\n",
       "    </tr>\n",
       "    <tr>\n",
       "      <th>6</th>\n",
       "      <td>679687</td>\n",
       "      <td>2017-01-19 3:26:47</td>\n",
       "      <td>treatment</td>\n",
       "      <td>new_page</td>\n",
       "      <td>1</td>\n",
       "    </tr>\n",
       "    <tr>\n",
       "      <th>8</th>\n",
       "      <td>817355</td>\n",
       "      <td>2017-01-04 17:58:09</td>\n",
       "      <td>treatment</td>\n",
       "      <td>new_page</td>\n",
       "      <td>1</td>\n",
       "    </tr>\n",
       "    <tr>\n",
       "      <th>9</th>\n",
       "      <td>839785</td>\n",
       "      <td>2017-01-15 18:11:07</td>\n",
       "      <td>treatment</td>\n",
       "      <td>new_page</td>\n",
       "      <td>1</td>\n",
       "    </tr>\n",
       "  </tbody>\n",
       "</table>\n",
       "</div>"
      ],
      "text/plain": [
       "   user_id            timestamp      group landing_page  converted\n",
       "2   661590  2017-01-11 16:55:06  treatment     new_page          0\n",
       "3   853541  2017-01-08 18:28:03  treatment     new_page          0\n",
       "6   679687   2017-01-19 3:26:47  treatment     new_page          1\n",
       "8   817355  2017-01-04 17:58:09  treatment     new_page          1\n",
       "9   839785  2017-01-15 18:11:07  treatment     new_page          1"
      ]
     },
     "execution_count": 52,
     "metadata": {},
     "output_type": "execute_result"
    }
   ],
   "source": [
    "treatment = (df.iloc[:,2]=='treatment') & (df.iloc[:,3]=='new_page')\n",
    "df_treatment = df[treatment].copy()\n",
    "df_treatment.head()"
   ]
  },
  {
   "cell_type": "markdown",
   "id": "cbbf4a21",
   "metadata": {},
   "source": [
    "<a id='section_3'></a>\n",
    "## Exploratory Data Analysis (EDA)\n",
    "Based on the EDA result below, the total user who joined this experiment in each group is balanced enough. The sample size is around 2500, we can use Z-test for the hypothesis testing. The conversion rate in treatment group (new landing page) is slightly higher than the conversion rate in control group (old landing page), but we can't take any conclussion about it yet, A/B hypothesis testing should be done first."
   ]
  },
  {
   "cell_type": "code",
   "execution_count": 53,
   "id": "656b5d8f",
   "metadata": {},
   "outputs": [
    {
     "name": "stdout",
     "output_type": "stream",
     "text": [
      "Control Group range in 2017-01-02 13:47:13 to 2017-01-24 9:51:06\n",
      "Number of converted user in control group = 316\n",
      "Number of total user in control group = 2505\n",
      "Conversion rate in control group = 12.61 %\n",
      "Standard deviation in control group = 0.33\n",
      "\n",
      "Treatment Group range in 2017-01-02 13:42:41 to 2017-01-24 9:18:21\n",
      "Number of converted user in treatment group = 321\n",
      "Number of total user in treatment group = 2438\n",
      "Conversion rate in treatment group: 13.17 %\n",
      "Standard deviation in treatment group = 0.34\n"
     ]
    }
   ],
   "source": [
    "print('Control Group range in', df_control.iloc[:,1].min(), 'to', df_control.iloc[:,1].max())\n",
    "print('Number of converted user in control group =', (df_control.iloc[:,-1]).sum())\n",
    "print('Number of total user in control group =', len(df_control))\n",
    "print('Conversion rate in control group =', (df_control.iloc[:,-1].mean()*100).round(2),'%')\n",
    "print('Standard deviation in control group =', (df_control.iloc[:,-1].std()).round(2))\n",
    "print('\\nTreatment Group range in', df_treatment.iloc[:,1].min(), 'to', df_treatment.iloc[:,1].max())\n",
    "print('Number of converted user in treatment group =', (df_treatment.iloc[:,-1]).sum())\n",
    "print('Number of total user in treatment group =', len(df_treatment))\n",
    "print('Conversion rate in treatment group:', (df_treatment.iloc[:,-1].mean()*100).round(2),'%')\n",
    "print('Standard deviation in treatment group =', (df_treatment.iloc[:,-1].std()).round(2))"
   ]
  },
  {
   "cell_type": "markdown",
   "id": "fddda1f7",
   "metadata": {},
   "source": [
    "<a id='section_4'></a>\n",
    "## Hypothesis Testing"
   ]
  },
  {
   "cell_type": "markdown",
   "id": "0e1380da",
   "metadata": {},
   "source": [
    "One tailed Z-test was chosen to prove the hypothesis. Either one of these statement is true for our testing result:\n",
    "\n",
    "**Null Hypothesis (H0)**: Conversion rate in new page **less than or equal to** the conversion rate in old page\n",
    "\n",
    "**Alternative Hypothesis (H1)**: Conversion rate in new page **better than** the conversion rate in old page"
   ]
  },
  {
   "cell_type": "code",
   "execution_count": 54,
   "id": "62b580b2",
   "metadata": {},
   "outputs": [
    {
     "name": "stdout",
     "output_type": "stream",
     "text": [
      "Z-score = 0.5787432513872296\n",
      "p-value = 0.2813812136899914\n",
      "The p=value is more than 0.05, we do not have enough evidence to reject null hypothesis\n"
     ]
    }
   ],
   "source": [
    "from statsmodels.stats.weightstats import ztest\n",
    "(stat, pvalue) = ztest(df_treatment.iloc[:,-1], df_control.iloc[:,-1], alternative='larger')\n",
    "print('Z-score =', stat)\n",
    "print('p-value =', pvalue)\n",
    "if (pvalue<0.05):\n",
    "    print('The p=value is less than 0.05, we have enough evidence to reject null hypothesis')\n",
    "else:\n",
    "    print('The p=value is more than 0.05, we do not have enough evidence to reject null hypothesis')"
   ]
  },
  {
   "cell_type": "markdown",
   "id": "811e83d2",
   "metadata": {},
   "source": [
    "**<u>Result</u>**:\n",
    "We don't have enough evidence to reject null hypothesis, thus we **accept null hypothesis.** New landing page doesn't give better conversion rate than the old one. "
   ]
  },
  {
   "cell_type": "markdown",
   "id": "b16cdfac",
   "metadata": {},
   "source": [
    "## Recommendation\n",
    "The company can keep using the old landing page, because the hypothesis testing result show that conversion rate in new landing page doesn't sginificantly differ with the one in old landing page "
   ]
  }
 ],
 "metadata": {
  "kernelspec": {
   "display_name": "Python 3 (ipykernel)",
   "language": "python",
   "name": "python3"
  },
  "language_info": {
   "codemirror_mode": {
    "name": "ipython",
    "version": 3
   },
   "file_extension": ".py",
   "mimetype": "text/x-python",
   "name": "python",
   "nbconvert_exporter": "python",
   "pygments_lexer": "ipython3",
   "version": "3.10.1"
  }
 },
 "nbformat": 4,
 "nbformat_minor": 5
}
